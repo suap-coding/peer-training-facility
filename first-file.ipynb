{"cells":[{"cell_type":"code","execution_count":null,"metadata":{},"outputs":[],"source":["#!/usr/bin/env python\n","# coding: utf-8"]},{"cell_type":"markdown","metadata":{},"source":["In[ ]:"]},{"cell_type":"code","execution_count":null,"metadata":{},"outputs":[],"source":["print(\"Hello guys!\")"]},{"cell_type":"markdown","metadata":{},"source":["Another thingy."]},{"cell_type":"markdown","metadata":{},"source":["Guy was here"]},{"cell_type":"markdown","metadata":{},"source":["Rats branch"]},{"cell_type":"markdown","metadata":{},"source":["In[ ]:"]},{"cell_type":"code","execution_count":null,"metadata":{},"outputs":[],"source":["import numpy as np\n","y = np.random.randint(-10,10,size=(10,10,10))\n","y"]},{"cell_type":"markdown","metadata":{},"source":["In[ ]:"]},{"cell_type":"code","execution_count":null,"metadata":{},"outputs":[],"source":["print(\"Murtaza is a very handsome Indian man!\")"]}],"metadata":{"interpreter":{"hash":"492244b4414931db1437b79e40b61d5d1ab774d0779d6ffb044c5f120285fa8b"},"kernelspec":{"display_name":"Python 3.5.6 64-bit ('pygame-3.5': conda)","name":"python3"},"language_info":{"name":"python","version":""}},"nbformat":4,"nbformat_minor":2}
{
 "cells": [
  {
   "cell_type": "code",
   "execution_count": null,
   "metadata": {},
   "outputs": [],
   "source": [
    "print(\"Hello guys!\")"
   ]
  },
  {
   "cell_type": "code",
   "execution_count": null,
   "metadata": {},
   "outputs": [],
   "source": [
    "print(\"This is my branch\")"
   ]
  },
  {
   "cell_type": "markdown",
   "metadata": {},
   "source": [
    "Another thingy."
   ]
  },
  {
   "cell_type": "code",
   "execution_count": 2,
   "metadata": {},
   "outputs": [
    {
     "output_type": "stream",
     "name": "stdout",
     "text": [
      " I am crawling inside your project\n"
     ]
    }
   ],
   "source": [
    "print (' I am crawling inside your project')"
   ]
  }
 ],
 "metadata": {
  "interpreter": {
   "hash": "ec2ca0e93f6653ac8ed5453194a370a228c9876540114f0cbf64650eb82c8b76"
  },
  "kernelspec": {
   "name": "python3",
   "display_name": "Python 3.8.8 64-bit ('base': conda)"
  },
  "language_info": {
   "name": "python",
   "version": "3.8.8"
  },
  "orig_nbformat": 4
 },
 "nbformat": 4,
 "nbformat_minor": 2
}