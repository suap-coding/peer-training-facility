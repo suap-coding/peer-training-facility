{
 "cells": [
  {
   "cell_type": "code",
   "execution_count": null,
   "metadata": {},
   "outputs": [],
   "source": [
    "print(\"Hello guys!\")"
   ]
  },
  {
   "cell_type": "markdown",
   "metadata": {},
   "source": [
    "Another thingy."
   ]
  },
  {
   "cell_type": "markdown",
   "metadata": {},
   "source": [
    "Guy was here"
   ]
  },
  {
   "cell_type": "markdown",
   "metadata": {},
   "source": [
    "Rats branch"
   ]
  },
  {
   "cell_type": "code",
   "execution_count": null,
   "metadata": {},
   "outputs": [],
   "source": [
    "import numpy as np\r\n",
    "y = np.random.randint(-10,10,size=(10,10,10))\r\n",
    "y"
   ]
  },
  {
   "cell_type": "code",
   "execution_count": null,
   "metadata": {},
   "outputs": [],
   "source": [
    "for x in y:\r\n",
    "    for z in x:\r\n",
    "        print(z)"
   ]
  }
 ],
 "metadata": {
  "interpreter": {
   "hash": "9fe42acf38460646c4da03ab672fdb8622019ca95c2d3e69c12e59c985d45cdc"
  },
  "kernelspec": {
   "display_name": "Python 3.8.8 64-bit ('base': conda)",
   "name": "python3"
  },
  "language_info": {
   "codemirror_mode": {
    "name": "ipython",
    "version": 3
   },
   "file_extension": ".py",
   "mimetype": "text/x-python",
   "name": "python",
   "nbconvert_exporter": "python",
   "pygments_lexer": "ipython3",
   "version": "3.8.8"
  },
  "orig_nbformat": 4
 },
 "nbformat": 4,
 "nbformat_minor": 2
}